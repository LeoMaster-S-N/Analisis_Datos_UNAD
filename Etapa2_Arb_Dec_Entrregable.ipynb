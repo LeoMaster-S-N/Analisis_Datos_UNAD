{
 "cells": [
  {
   "cell_type": "raw",
   "id": "8f15a7c1-a853-4524-859f-eae411d4e16a",
   "metadata": {},
   "source": [
    "Etapa2_Arb_Dec_Entrregable"
   ]
  },
  {
   "cell_type": "raw",
   "id": "a65b4a46-5e21-46ff-a748-172e5fcab4ea",
   "metadata": {},
   "source": [
    "Importar librerías a utilizar"
   ]
  },
  {
   "cell_type": "code",
   "execution_count": 1,
   "id": "ec404141-254a-42a8-8c76-ee728d7f4da1",
   "metadata": {
    "tags": []
   },
   "outputs": [],
   "source": [
    "import pandas as pd\n",
    "import numpy as np\n",
    "import matplotlib.pyplot as plt\n",
    "from sklearn.model_selection import train_test_split\n",
    "from sklearn.tree import DecisionTreeClassifier, plot_tree\n",
    "from sklearn.metrics import accuracy_score\n",
    "from sklearn.tree import DecisionTreeRegressor"
   ]
  },
  {
   "cell_type": "markdown",
   "id": "561eade1-8426-46ac-8005-cc70ec90441f",
   "metadata": {},
   "source": [
    "Cargar la ruta del archivo csv en la variable"
   ]
  },
  {
   "cell_type": "code",
   "execution_count": 2,
   "id": "3bda87ef-648f-441f-9527-77955b7de00c",
   "metadata": {
    "tags": []
   },
   "outputs": [],
   "source": [
    "ad = pd.read_csv(\"C:\\Jupyter Dats\\Datasets\\AD Dataset\\wine.csv\", sep=\",\")"
   ]
  },
  {
   "cell_type": "markdown",
   "id": "f9699542-ed3f-4b90-99ca-8c771377499d",
   "metadata": {},
   "source": [
    "Cargar la información del archivo csv"
   ]
  },
  {
   "cell_type": "code",
   "execution_count": 3,
   "id": "be3a91c5-8da1-4fb7-bb4f-a26768d9ebbd",
   "metadata": {
    "tags": []
   },
   "outputs": [
    {
     "data": {
      "text/html": [
       "<div>\n",
       "<style scoped>\n",
       "    .dataframe tbody tr th:only-of-type {\n",
       "        vertical-align: middle;\n",
       "    }\n",
       "\n",
       "    .dataframe tbody tr th {\n",
       "        vertical-align: top;\n",
       "    }\n",
       "\n",
       "    .dataframe thead th {\n",
       "        text-align: right;\n",
       "    }\n",
       "</style>\n",
       "<table border=\"1\" class=\"dataframe\">\n",
       "  <thead>\n",
       "    <tr style=\"text-align: right;\">\n",
       "      <th></th>\n",
       "      <th>Año</th>\n",
       "      <th>LluviaInvierno</th>\n",
       "      <th>TemperaturaMediaVerano</th>\n",
       "      <th>LluviaCosecha</th>\n",
       "      <th>Edad</th>\n",
       "      <th>Precio</th>\n",
       "    </tr>\n",
       "  </thead>\n",
       "  <tbody>\n",
       "    <tr>\n",
       "      <th>0</th>\n",
       "      <td>1952</td>\n",
       "      <td>600</td>\n",
       "      <td>17.1167</td>\n",
       "      <td>160</td>\n",
       "      <td>31</td>\n",
       "      <td>7.4950</td>\n",
       "    </tr>\n",
       "    <tr>\n",
       "      <th>1</th>\n",
       "      <td>1953</td>\n",
       "      <td>690</td>\n",
       "      <td>16.7333</td>\n",
       "      <td>80</td>\n",
       "      <td>30</td>\n",
       "      <td>8.0393</td>\n",
       "    </tr>\n",
       "    <tr>\n",
       "      <th>2</th>\n",
       "      <td>1955</td>\n",
       "      <td>502</td>\n",
       "      <td>17.1500</td>\n",
       "      <td>130</td>\n",
       "      <td>28</td>\n",
       "      <td>7.6858</td>\n",
       "    </tr>\n",
       "    <tr>\n",
       "      <th>3</th>\n",
       "      <td>1957</td>\n",
       "      <td>420</td>\n",
       "      <td>16.1333</td>\n",
       "      <td>110</td>\n",
       "      <td>26</td>\n",
       "      <td>6.9845</td>\n",
       "    </tr>\n",
       "    <tr>\n",
       "      <th>4</th>\n",
       "      <td>1958</td>\n",
       "      <td>582</td>\n",
       "      <td>16.4167</td>\n",
       "      <td>187</td>\n",
       "      <td>25</td>\n",
       "      <td>6.7772</td>\n",
       "    </tr>\n",
       "  </tbody>\n",
       "</table>\n",
       "</div>"
      ],
      "text/plain": [
       "    Año  LluviaInvierno  TemperaturaMediaVerano  LluviaCosecha  Edad  Precio\n",
       "0  1952             600                 17.1167            160    31  7.4950\n",
       "1  1953             690                 16.7333             80    30  8.0393\n",
       "2  1955             502                 17.1500            130    28  7.6858\n",
       "3  1957             420                 16.1333            110    26  6.9845\n",
       "4  1958             582                 16.4167            187    25  6.7772"
      ]
     },
     "execution_count": 3,
     "metadata": {},
     "output_type": "execute_result"
    }
   ],
   "source": [
    "ad.head()"
   ]
  },
  {
   "cell_type": "markdown",
   "id": "f72629f5-7342-43db-9eb5-25657f48ae2f",
   "metadata": {},
   "source": [
    "Conocer el nombre original de las columnas del dataset"
   ]
  },
  {
   "cell_type": "code",
   "execution_count": 4,
   "id": "4d0a42ac-f6e4-479d-bb2b-83122b953d36",
   "metadata": {
    "tags": []
   },
   "outputs": [
    {
     "data": {
      "text/plain": [
       "Index(['Año', 'LluviaInvierno', 'TemperaturaMediaVerano', 'LluviaCosecha',\n",
       "       'Edad', 'Precio'],\n",
       "      dtype='object')"
      ]
     },
     "execution_count": 4,
     "metadata": {},
     "output_type": "execute_result"
    }
   ],
   "source": [
    "ad.columns"
   ]
  },
  {
   "cell_type": "markdown",
   "id": "cc845154-a92c-4ef9-9301-aaf5cc8a7e63",
   "metadata": {},
   "source": [
    "Crear una gráfica de barras con dos parámetros"
   ]
  },
  {
   "cell_type": "code",
   "execution_count": 5,
   "id": "205553a9-7df0-48f0-82e9-39137b3bbb07",
   "metadata": {
    "tags": []
   },
   "outputs": [
    {
     "data": {
      "text/plain": [
       "(array([6., 3., 3., 2., 5., 2., 3., 0., 2., 1.]),\n",
       " array([6.2049 , 6.43378, 6.66266, 6.89154, 7.12042, 7.3493 , 7.57818,\n",
       "        7.80706, 8.03594, 8.26482, 8.4937 ]),\n",
       " <BarContainer object of 10 artists>)"
      ]
     },
     "execution_count": 5,
     "metadata": {},
     "output_type": "execute_result"
    },
    {
     "data": {
      "image/png": "[encoded data removed]",
      "text/plain": [
       "<Figure size 640x480 with 1 Axes>"
      ]
     },
     "metadata": {},
     "output_type": "display_data"
    }
   ],
   "source": [
    "plt.hist(ad.Precio)"
   ]
  },
  {
   "cell_type": "markdown",
   "id": "6fc5bfe0-8199-47e8-b5f6-8b5ce87150c3",
   "metadata": {},
   "source": [
    "Dividir el conjunto de datos en características (x) y etiquetas (y)"
   ]
  },
  {
   "cell_type": "code",
   "execution_count": 6,
   "id": "66cc02d6-f868-41ed-95a4-1ca940807380",
   "metadata": {},
   "outputs": [],
   "source": [
    "predictor_col = [\"Año\", \"LluviaInvierno\", \"TemperaturaMediaVerano\", \"LluviaCosecha\", \"Edad\"]\n",
    "target_col = [\"Precio\"]"
   ]
  },
  {
   "cell_type": "markdown",
   "id": "622a8ab3-1d1c-4846-9d42-6439731b3b97",
   "metadata": {},
   "source": [
    "Asignar las características de predicciones en x y la etiquéta de variable objetivo en y"
   ]
  },
  {
   "cell_type": "code",
   "execution_count": 7,
   "id": "7fd3b08e-adf8-47a3-a179-b3a27d52f9b5",
   "metadata": {
    "tags": []
   },
   "outputs": [],
   "source": [
    "x = ad[predictor_col]\n",
    "y = ad[target_col]"
   ]
  },
  {
   "cell_type": "markdown",
   "id": "4b4db191-cc5a-486f-8bb5-653c9421ad44",
   "metadata": {},
   "source": [
    "Dividir el conjunto de datos en entrenamiento y prueba"
   ]
  },
  {
   "cell_type": "code",
   "execution_count": 8,
   "id": "441888ef-9079-4410-831f-698868856c3d",
   "metadata": {
    "tags": []
   },
   "outputs": [],
   "source": [
    "X_train, X_test, y_train, y_test = train_test_split(x, y, test_size=0.2, random_state=5)"
   ]
  },
  {
   "cell_type": "markdown",
   "id": "39a8acd7-387e-46fd-9735-8782eb54ad76",
   "metadata": {},
   "source": [
    "Entrenar el modelo de árbol de decisión - Crear un modelo de árbol de decisión"
   ]
  },
  {
   "cell_type": "code",
   "execution_count": 9,
   "id": "9552bf2b-0845-4371-9a94-7dfe05b181df",
   "metadata": {
    "tags": []
   },
   "outputs": [],
   "source": [
    "tree = DecisionTreeRegressor()"
   ]
  },
  {
   "cell_type": "markdown",
   "id": "01bcabba-32a3-405d-b10a-f6f2da1f2994",
   "metadata": {},
   "source": [
    "Asignar el entrenamiento y resultados del árbol a la variable"
   ]
  },
  {
   "cell_type": "code",
   "execution_count": 10,
   "id": "29bd8556-f8df-4960-8220-4f270c14a300",
   "metadata": {
    "tags": []
   },
   "outputs": [],
   "source": [
    "arbol = tree.fit(X_train, y_train)"
   ]
  },
  {
   "cell_type": "raw",
   "id": "ada19b48-a6ce-40a0-8522-4cbc00d07cd7",
   "metadata": {},
   "source": [
    "Dibujar el diagrama del Árbol de Decisiones"
   ]
  },
  {
   "cell_type": "code",
   "execution_count": 11,
   "id": "6a175d9e-0749-47c5-bbf4-b20e92b7a209",
   "metadata": {},
   "outputs": [
    {
     "data": {
      "text/plain": [
       "[Text(0.5576923076923077, 0.9375, 'x[2] <= 16.608\\nsquared_error = 0.375\\nsamples = 21\\nvalue = 7.128'),\n",
       " Text(0.34615384615384615, 0.8125, 'x[3] <= 138.5\\nsquared_error = 0.192\\nsamples = 13\\nvalue = 6.8'),\n",
       " Text(0.19230769230769232, 0.6875, 'x[2] <= 16.267\\nsquared_error = 0.138\\nsamples = 7\\nvalue = 7.085'),\n",
       " Text(0.11538461538461539, 0.5625, 'x[0] <= 1979.5\\nsquared_error = 0.051\\nsamples = 5\\nvalue = 6.892'),\n",
       " Text(0.07692307692307693, 0.4375, 'x[2] <= 15.975\\nsquared_error = 0.016\\nsamples = 4\\nvalue = 6.991'),\n",
       " Text(0.038461538461538464, 0.3125, 'squared_error = 0.0\\nsamples = 1\\nvalue = 7.186'),\n",
       " Text(0.11538461538461539, 0.3125, 'x[2] <= 16.2\\nsquared_error = 0.004\\nsamples = 3\\nvalue = 6.926'),\n",
       " Text(0.07692307692307693, 0.1875, 'x[0] <= 1968.0\\nsquared_error = 0.0\\nsamples = 2\\nvalue = 6.969'),\n",
       " Text(0.038461538461538464, 0.0625, 'squared_error = 0.0\\nsamples = 1\\nvalue = 6.984'),\n",
       " Text(0.11538461538461539, 0.0625, 'squared_error = -0.0\\nsamples = 1\\nvalue = 6.954'),\n",
       " Text(0.15384615384615385, 0.1875, 'squared_error = 0.0\\nsamples = 1\\nvalue = 6.84'),\n",
       " Text(0.15384615384615385, 0.4375, 'squared_error = -0.0\\nsamples = 1\\nvalue = 6.498'),\n",
       " Text(0.2692307692307692, 0.5625, 'x[1] <= 758.0\\nsquared_error = 0.032\\nsamples = 2\\nvalue = 7.566'),\n",
       " Text(0.23076923076923078, 0.4375, 'squared_error = 0.0\\nsamples = 1\\nvalue = 7.388'),\n",
       " Text(0.3076923076923077, 0.4375, 'squared_error = -0.0\\nsamples = 1\\nvalue = 7.744'),\n",
       " Text(0.5, 0.6875, 'x[4] <= 17.5\\nsquared_error = 0.049\\nsamples = 6\\nvalue = 6.467'),\n",
       " Text(0.4230769230769231, 0.5625, 'x[2] <= 16.375\\nsquared_error = 0.004\\nsamples = 3\\nvalue = 6.265'),\n",
       " Text(0.38461538461538464, 0.4375, 'x[2] <= 15.592\\nsquared_error = 0.0\\nsamples = 2\\nvalue = 6.224'),\n",
       " Text(0.34615384615384615, 0.3125, 'squared_error = 0.0\\nsamples = 1\\nvalue = 6.205'),\n",
       " Text(0.4230769230769231, 0.3125, 'squared_error = 0.0\\nsamples = 1\\nvalue = 6.244'),\n",
       " Text(0.46153846153846156, 0.4375, 'squared_error = -0.0\\nsamples = 1\\nvalue = 6.346'),\n",
       " Text(0.5769230769230769, 0.5625, 'x[1] <= 685.5\\nsquared_error = 0.012\\nsamples = 3\\nvalue = 6.67'),\n",
       " Text(0.5384615384615384, 0.4375, 'x[2] <= 16.067\\nsquared_error = 0.001\\nsamples = 2\\nvalue = 6.745'),\n",
       " Text(0.5, 0.3125, 'squared_error = 0.0\\nsamples = 1\\nvalue = 6.713'),\n",
       " Text(0.5769230769230769, 0.3125, 'squared_error = 0.0\\nsamples = 1\\nvalue = 6.777'),\n",
       " Text(0.6153846153846154, 0.4375, 'squared_error = 0.0\\nsamples = 1\\nvalue = 6.519'),\n",
       " Text(0.7692307692307693, 0.8125, 'x[4] <= 17.5\\nsquared_error = 0.211\\nsamples = 8\\nvalue = 7.662'),\n",
       " Text(0.6923076923076923, 0.6875, 'x[3] <= 100.5\\nsquared_error = 0.032\\nsamples = 4\\nvalue = 7.299'),\n",
       " Text(0.6538461538461539, 0.5625, 'squared_error = 0.0\\nsamples = 1\\nvalue = 7.588'),\n",
       " Text(0.7307692307692307, 0.5625, 'x[1] <= 561.5\\nsquared_error = 0.005\\nsamples = 3\\nvalue = 7.202'),\n",
       " Text(0.6923076923076923, 0.4375, 'x[0] <= 1973.5\\nsquared_error = 0.001\\nsamples = 2\\nvalue = 7.157'),\n",
       " Text(0.6538461538461539, 0.3125, 'squared_error = 0.0\\nsamples = 1\\nvalue = 7.193'),\n",
       " Text(0.7307692307692307, 0.3125, 'squared_error = 0.0\\nsamples = 1\\nvalue = 7.121'),\n",
       " Text(0.7692307692307693, 0.4375, 'squared_error = -0.0\\nsamples = 1\\nvalue = 7.292'),\n",
       " Text(0.8461538461538461, 0.6875, 'x[0] <= 1952.5\\nsquared_error = 0.126\\nsamples = 4\\nvalue = 8.026'),\n",
       " Text(0.8076923076923077, 0.5625, 'squared_error = 0.0\\nsamples = 1\\nvalue = 7.495'),\n",
       " Text(0.8846153846153846, 0.5625, 'x[3] <= 59.0\\nsquared_error = 0.043\\nsamples = 3\\nvalue = 8.203'),\n",
       " Text(0.8461538461538461, 0.4375, 'squared_error = 0.0\\nsamples = 1\\nvalue = 8.494'),\n",
       " Text(0.9230769230769231, 0.4375, 'x[1] <= 587.5\\nsquared_error = 0.0\\nsamples = 2\\nvalue = 8.058'),\n",
       " Text(0.8846153846153846, 0.3125, 'squared_error = 0.0\\nsamples = 1\\nvalue = 8.076'),\n",
       " Text(0.9615384615384616, 0.3125, 'squared_error = -0.0\\nsamples = 1\\nvalue = 8.039')]"
      ]
     },
     "execution_count": 11,
     "metadata": {},
     "output_type": "execute_result"
    },
    {
     "data": {
      "image/png": "[encoded data removed]",
      "text/plain": [
       "<Figure size 640x480 with 1 Axes>"
      ]
     },
     "metadata": {},
     "output_type": "display_data"
    }
   ],
   "source": [
    "plot_tree(arbol)"
   ]
  },
  {
   "cell_type": "code",
   "execution_count": null,
   "id": "c3842b1c-67ee-4cd9-8a25-2674889ceebc",
   "metadata": {},
   "outputs": [],
   "source": []
  }
 ],
 "metadata": {
  "kernelspec": {
   "display_name": "Python 3 (ipykernel)",
   "language": "python",
   "name": "python3"
  },
  "language_info": {
   "codemirror_mode": {
    "name": "ipython",
    "version": 3
   },
   "file_extension": ".py",
   "mimetype": "text/x-python",
   "name": "python",
   "nbconvert_exporter": "python",
   "pygments_lexer": "ipython3",
   "version": "3.11.4"
  }
 },
 "nbformat": 4,
 "nbformat_minor": 5
}
